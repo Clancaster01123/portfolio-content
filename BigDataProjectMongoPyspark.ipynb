{
 "cells": [
  {
   "cell_type": "code",
   "execution_count": 1,
   "id": "7855a8cc",
   "metadata": {},
   "outputs": [],
   "source": [
    "from pymongo import MongoClient\n",
    "\n",
    "# Requires the PyMongo package.\n",
    "# https://api.mongodb.com/python/current\n",
    "\n",
    "client = MongoClient('mongodb://localhost:27017/')\n",
    "control_result = client['test']['test 1'].aggregate([\n",
    "    {\n",
    "        '$set': {\n",
    "            'Region': 'USA'\n",
    "        }\n",
    "    }, {\n",
    "        '$setWindowFields': {\n",
    "            'partitionBy': '$region', \n",
    "            'sortBy': {\n",
    "                '_id': 1\n",
    "            }, \n",
    "            'output': {\n",
    "                'cumulativeEmissionsForUSA': {\n",
    "                    '$sum': '$emis_lb', \n",
    "                    'window': {\n",
    "                        'documents': [\n",
    "                            'unbounded', 'current'\n",
    "                        ]\n",
    "                    }\n",
    "                }\n",
    "            }\n",
    "        }\n",
    "    }, {\n",
    "        '$setWindowFields': {\n",
    "            'partitionBy': '$region', \n",
    "            'sortBy': {\n",
    "                '_id': 1\n",
    "            }, \n",
    "            'output': {\n",
    "                'cumulativeCountForUSA': {\n",
    "                    '$count': {}, \n",
    "                    'window': {\n",
    "                        'documents': [\n",
    "                            'unbounded', 'current'\n",
    "                        ]\n",
    "                    }\n",
    "                }\n",
    "            }\n",
    "        }\n",
    "    }, {\n",
    "        '$sort': {\n",
    "            'cumulativeCountForUSA': -1\n",
    "        }\n",
    "    }, {\n",
    "        '$limit': 1\n",
    "    }, {\n",
    "        '$project': {\n",
    "            'Region': 1, \n",
    "            'cumulativeEmissionsForUSA': 1, \n",
    "            'cumulativeCountForUSA': 1, \n",
    "            'Ratio_emis_facility': {\n",
    "                '$divide': [\n",
    "                    '$cumulativeEmissionsForUSA', '$cumulativeCountForUSA'\n",
    "                ]\n",
    "            }\n",
    "        }\n",
    "    }\n",
    "])"
   ]
  },
  {
   "cell_type": "code",
   "execution_count": 2,
   "id": "9b4baeaf",
   "metadata": {
    "scrolled": true
   },
   "outputs": [
    {
     "name": "stdout",
     "output_type": "stream",
     "text": [
      "{'_id': ObjectId('63895300a27c0c127835c6bd'), 'Region': 'USA', 'cumulativeEmissionsForUSA': Decimal128('19509.75833537736265227'), 'cumulativeCountForUSA': 23899, 'Ratio_emis_facility': Decimal128('0.8163420367118859639428427967697393')}\n"
     ]
    }
   ],
   "source": [
    "for doc in control_result:\n",
    "    control={}\n",
    "    control=doc\n",
    "    print(doc)"
   ]
  },
  {
   "cell_type": "code",
   "execution_count": 3,
   "id": "26103c22",
   "metadata": {},
   "outputs": [],
   "source": [
    "west_result = client['test']['test 1'].aggregate([\n",
    "    {\n",
    "        '$match': {\n",
    "            'state': {\n",
    "                '$in': [\n",
    "                    'CA', 'UT', 'NV', 'OR', 'WA', 'ID', 'MT', 'WY', 'CD', 'AK', 'HI'\n",
    "                ]\n",
    "            }\n",
    "        }\n",
    "    }, {\n",
    "        '$set': {\n",
    "            'Region': 'West'\n",
    "        }\n",
    "    }, {\n",
    "        '$setWindowFields': {\n",
    "            'partitionBy': '$region', \n",
    "            'sortBy': {\n",
    "                '_id': 1\n",
    "            }, \n",
    "            'output': {\n",
    "                'cumulativeEmissionsForRegion': {\n",
    "                    '$sum': '$emis_lb', \n",
    "                    'window': {\n",
    "                        'documents': [\n",
    "                            'unbounded', 'current'\n",
    "                        ]\n",
    "                    }\n",
    "                }\n",
    "            }\n",
    "        }\n",
    "    }, {\n",
    "        '$setWindowFields': {\n",
    "            'partitionBy': '$region', \n",
    "            'sortBy': {\n",
    "                '_id': 1\n",
    "            }, \n",
    "            'output': {\n",
    "                'cumulativeCountForRegion': {\n",
    "                    '$count': {}, \n",
    "                    'window': {\n",
    "                        'documents': [\n",
    "                            'unbounded', 'current'\n",
    "                        ]\n",
    "                    }\n",
    "                }\n",
    "            }\n",
    "        }\n",
    "    }, {\n",
    "        '$sort': {\n",
    "            'cumulativeEmissionsForRegion': -1\n",
    "        }\n",
    "    }, {\n",
    "        '$limit': 1\n",
    "    }, {\n",
    "        '$project': {\n",
    "            'Region': 1, \n",
    "            'cumulativeEmissionsForRegion': 1, \n",
    "            'cumulativeCountForRegion': 1, \n",
    "            'Ratio_emis_facility': {\n",
    "                '$divide': [\n",
    "                    '$cumulativeEmissionsForRegion', '$cumulativeCountForRegion'\n",
    "                ]\n",
    "            }\n",
    "        }\n",
    "    }\n",
    "])"
   ]
  },
  {
   "cell_type": "code",
   "execution_count": 4,
   "id": "2b657deb",
   "metadata": {},
   "outputs": [
    {
     "name": "stdout",
     "output_type": "stream",
     "text": [
      "{'_id': ObjectId('63895300a27c0c127835c6af'), 'Region': 'West', 'cumulativeEmissionsForRegion': Decimal128('2583.799025425105835'), 'cumulativeCountForRegion': 11202, 'Ratio_emis_facility': Decimal128('0.2306551531356102334404570612390645')}\n"
     ]
    }
   ],
   "source": [
    "for doc in west_result:\n",
    "    west={}\n",
    "    west=doc\n",
    "    print(doc)"
   ]
  },
  {
   "cell_type": "code",
   "execution_count": 5,
   "id": "9cd1f8fc",
   "metadata": {},
   "outputs": [],
   "source": [
    "midwest_result = client['test']['test 1'].aggregate([\n",
    "    {\n",
    "        '$match': {\n",
    "            'state': {\n",
    "                '$in': [\n",
    "                    'IL', 'WI', 'MN', 'IA', 'MO', 'KS', 'NE', 'SD', 'ND', 'IN', 'MI', 'OH'\n",
    "                ]\n",
    "            }\n",
    "        }\n",
    "    }, {\n",
    "        '$set': {\n",
    "            'Region': 'Midwest'\n",
    "        }\n",
    "    }, {\n",
    "        '$setWindowFields': {\n",
    "            'partitionBy': '$region', \n",
    "            'sortBy': {\n",
    "                '_id': 1\n",
    "            }, \n",
    "            'output': {\n",
    "                'cumulativeEmissionsForRegion': {\n",
    "                    '$sum': '$emis_lb', \n",
    "                    'window': {\n",
    "                        'documents': [\n",
    "                            'unbounded', 'current'\n",
    "                        ]\n",
    "                    }\n",
    "                }\n",
    "            }\n",
    "        }\n",
    "    }, {\n",
    "        '$setWindowFields': {\n",
    "            'partitionBy': '$region', \n",
    "            'sortBy': {\n",
    "                '_id': 1\n",
    "            }, \n",
    "            'output': {\n",
    "                'cumulativeCountForRegion': {\n",
    "                    '$count': {}, \n",
    "                    'window': {\n",
    "                        'documents': [\n",
    "                            'unbounded', 'current'\n",
    "                        ]\n",
    "                    }\n",
    "                }\n",
    "            }\n",
    "        }\n",
    "    }, {\n",
    "        '$sort': {\n",
    "            'cumulativeEmissionsForRegion': -1\n",
    "        }\n",
    "    }, {\n",
    "        '$limit': 1\n",
    "    }, {\n",
    "        '$project': {\n",
    "            'Region': 1, \n",
    "            'cumulativeEmissionsForRegion': 1, \n",
    "            'cumulativeCountForRegion': 1, \n",
    "            'Ratio_emis_facility': {\n",
    "                '$divide': [\n",
    "                    '$cumulativeEmissionsForRegion', '$cumulativeCountForRegion'\n",
    "                ]\n",
    "            }\n",
    "        }\n",
    "    }\n",
    "])"
   ]
  },
  {
   "cell_type": "code",
   "execution_count": 6,
   "id": "1da7351b",
   "metadata": {},
   "outputs": [
    {
     "name": "stdout",
     "output_type": "stream",
     "text": [
      "{'_id': ObjectId('63895300a27c0c127835c685'), 'Region': 'Midwest', 'cumulativeEmissionsForRegion': Decimal128('5804.84676329812481727'), 'cumulativeCountForRegion': 5035, 'Ratio_emis_facility': Decimal128('1.152899059244910589328699106256207')}\n"
     ]
    }
   ],
   "source": [
    "for doc in midwest_result:\n",
    "    midwest={}\n",
    "    midwest=doc\n",
    "    print(doc)"
   ]
  },
  {
   "cell_type": "code",
   "execution_count": 7,
   "id": "73144b34",
   "metadata": {},
   "outputs": [],
   "source": [
    "southwest_result = client['test']['test 1'].aggregate([\n",
    "    {\n",
    "        '$match': {\n",
    "            'state': {\n",
    "                '$in': [\n",
    "                    'OK', 'TX', 'NM', 'AZ'\n",
    "                ]\n",
    "            }\n",
    "        }\n",
    "    }, {\n",
    "        '$set': {\n",
    "            'Region': 'Southwest'\n",
    "        }\n",
    "    }, {\n",
    "        '$setWindowFields': {\n",
    "            'partitionBy': '$region', \n",
    "            'sortBy': {\n",
    "                '_id': 1\n",
    "            }, \n",
    "            'output': {\n",
    "                'cumulativeEmissionsForRegion': {\n",
    "                    '$sum': '$emis_lb', \n",
    "                    'window': {\n",
    "                        'documents': [\n",
    "                            'unbounded', 'current'\n",
    "                        ]\n",
    "                    }\n",
    "                }\n",
    "            }\n",
    "        }\n",
    "    }, {\n",
    "        '$setWindowFields': {\n",
    "            'partitionBy': '$region', \n",
    "            'sortBy': {\n",
    "                '_id': 1\n",
    "            }, \n",
    "            'output': {\n",
    "                'cumulativeCountForRegion': {\n",
    "                    '$count': {}, \n",
    "                    'window': {\n",
    "                        'documents': [\n",
    "                            'unbounded', 'current'\n",
    "                        ]\n",
    "                    }\n",
    "                }\n",
    "            }\n",
    "        }\n",
    "    }, {\n",
    "        '$sort': {\n",
    "            'cumulativeEmissionsForRegion': -1\n",
    "        }\n",
    "    }, {\n",
    "        '$limit': 1\n",
    "    }, {\n",
    "        '$project': {\n",
    "            'Region': 1, \n",
    "            'cumulativeEmissionsForRegion': 1, \n",
    "            'cumulativeCountForRegion': 1, \n",
    "            'Ratio_emis_facility': {\n",
    "                '$divide': [\n",
    "                    '$cumulativeEmissionsForRegion', '$cumulativeCountForRegion'\n",
    "                ]\n",
    "            }\n",
    "        }\n",
    "    }\n",
    "])"
   ]
  },
  {
   "cell_type": "code",
   "execution_count": 8,
   "id": "fceb98f2",
   "metadata": {},
   "outputs": [
    {
     "name": "stdout",
     "output_type": "stream",
     "text": [
      "{'_id': ObjectId('63895300a27c0c127835c6bd'), 'Region': 'Southwest', 'cumulativeEmissionsForRegion': Decimal128('3929.6205516508'), 'cumulativeCountForRegion': 1376, 'Ratio_emis_facility': Decimal128('2.855828889281104651162790697674419')}\n"
     ]
    }
   ],
   "source": [
    "for doc in southwest_result:\n",
    "    southwest={}\n",
    "    southwest=doc\n",
    "    print(doc)"
   ]
  },
  {
   "cell_type": "code",
   "execution_count": 9,
   "id": "b4baa6fe",
   "metadata": {},
   "outputs": [],
   "source": [
    "southeast_result = client['test']['test 1'].aggregate([\n",
    "    {\n",
    "        '$match': {\n",
    "            'state': {\n",
    "                '$in': [\n",
    "                    'DC', 'WV', 'VA', 'NC', 'SC', 'FL', 'GA', 'KY', 'TN', 'AL', 'MS', 'LA', 'AR', 'MD'\n",
    "                ]\n",
    "            }\n",
    "        }\n",
    "    }, {\n",
    "        '$set': {\n",
    "            'Region': 'Southeast'\n",
    "        }\n",
    "    }, {\n",
    "        '$setWindowFields': {\n",
    "            'partitionBy': '$region', \n",
    "            'sortBy': {\n",
    "                '_id': 1\n",
    "            }, \n",
    "            'output': {\n",
    "                'cumulativeEmissionsForRegion': {\n",
    "                    '$sum': '$emis_lb', \n",
    "                    'window': {\n",
    "                        'documents': [\n",
    "                            'unbounded', 'current'\n",
    "                        ]\n",
    "                    }\n",
    "                }\n",
    "            }\n",
    "        }\n",
    "    }, {\n",
    "        '$setWindowFields': {\n",
    "            'partitionBy': '$region', \n",
    "            'sortBy': {\n",
    "                '_id': 1\n",
    "            }, \n",
    "            'output': {\n",
    "                'cumulativeCountForRegion': {\n",
    "                    '$count': {}, \n",
    "                    'window': {\n",
    "                        'documents': [\n",
    "                            'unbounded', 'current'\n",
    "                        ]\n",
    "                    }\n",
    "                }\n",
    "            }\n",
    "        }\n",
    "    }, {\n",
    "        '$sort': {\n",
    "            'cumulativeEmissionsForRegion': -1\n",
    "        }\n",
    "    }, {\n",
    "        '$limit': 1\n",
    "    }, {\n",
    "        '$project': {\n",
    "            'Region': 1, \n",
    "            'cumulativeEmissionsForRegion': 1, \n",
    "            'cumulativeCountForRegion': 1, \n",
    "            'Ratio_emis_facility': {\n",
    "                '$divide': [\n",
    "                    '$cumulativeEmissionsForRegion', '$cumulativeCountForRegion'\n",
    "                ]\n",
    "            }\n",
    "        }\n",
    "    }\n",
    "])"
   ]
  },
  {
   "cell_type": "code",
   "execution_count": 10,
   "id": "df7578a0",
   "metadata": {},
   "outputs": [
    {
     "name": "stdout",
     "output_type": "stream",
     "text": [
      "{'_id': ObjectId('63895300a27c0c127835c6b9'), 'Region': 'Southeast', 'cumulativeEmissionsForRegion': Decimal128('4365.9520124128620'), 'cumulativeCountForRegion': 4142, 'Ratio_emis_facility': Decimal128('1.054068568907016417189763399323998')}\n"
     ]
    }
   ],
   "source": [
    "for doc in southeast_result:\n",
    "    southeast={}\n",
    "    southeast=doc\n",
    "    print(doc)"
   ]
  },
  {
   "cell_type": "code",
   "execution_count": 11,
   "id": "84450c7c",
   "metadata": {},
   "outputs": [],
   "source": [
    "northeast_result = client['test']['test 1'].aggregate([\n",
    "    {\n",
    "        '$match': {\n",
    "            'state': {\n",
    "                '$in': [\n",
    "                    'MA', 'NH', 'ME', 'VT', 'CT', 'RI', 'NJ', 'NY', 'PA'\n",
    "                ]\n",
    "            }\n",
    "        }\n",
    "    }, {\n",
    "        '$set': {\n",
    "            'Region': 'Northeast'\n",
    "        }\n",
    "    }, {\n",
    "        '$setWindowFields': {\n",
    "            'partitionBy': '$region', \n",
    "            'sortBy': {\n",
    "                '_id': 1\n",
    "            }, \n",
    "            'output': {\n",
    "                'cumulativeEmissionsForRegion': {\n",
    "                    '$sum': '$emis_lb', \n",
    "                    'window': {\n",
    "                        'documents': [\n",
    "                            'unbounded', 'current'\n",
    "                        ]\n",
    "                    }\n",
    "                }\n",
    "            }\n",
    "        }\n",
    "    }, {\n",
    "        '$setWindowFields': {\n",
    "            'partitionBy': '$region', \n",
    "            'sortBy': {\n",
    "                '_id': 1\n",
    "            }, \n",
    "            'output': {\n",
    "                'cumulativeCountForRegion': {\n",
    "                    '$count': {}, \n",
    "                    'window': {\n",
    "                        'documents': [\n",
    "                            'unbounded', 'current'\n",
    "                        ]\n",
    "                    }\n",
    "                }\n",
    "            }\n",
    "        }\n",
    "    }, {\n",
    "        '$sort': {\n",
    "            'cumulativeEmissionsForRegion': -1\n",
    "        }\n",
    "    }, {\n",
    "        '$limit': 1\n",
    "    }, {\n",
    "        '$project': {\n",
    "            'Region': 1, \n",
    "            'cumulativeEmissionsForRegion': 1, \n",
    "            'cumulativeCountForRegion': 1, \n",
    "            'Ratio_emis_facility': {\n",
    "                '$divide': [\n",
    "                    '$cumulativeEmissionsForRegion', '$cumulativeCountForRegion'\n",
    "                ]\n",
    "            }\n",
    "        }\n",
    "    }\n",
    "])"
   ]
  },
  {
   "cell_type": "code",
   "execution_count": 12,
   "id": "88a5e8d1",
   "metadata": {},
   "outputs": [
    {
     "name": "stdout",
     "output_type": "stream",
     "text": [
      "{'_id': ObjectId('63895300a27c0c127835c6b8'), 'Region': 'Northeast', 'cumulativeEmissionsForRegion': Decimal128('2146.0760734160'), 'cumulativeCountForRegion': 1768, 'Ratio_emis_facility': Decimal128('1.213843932927601809954751131221719')}\n"
     ]
    }
   ],
   "source": [
    "for doc in northeast_result:\n",
    "    northeast={}\n",
    "    northeast=doc\n",
    "    print(doc)"
   ]
  },
  {
   "cell_type": "code",
   "execution_count": 13,
   "id": "2d573961",
   "metadata": {},
   "outputs": [
    {
     "name": "stdout",
     "output_type": "stream",
     "text": [
      "dict_values([ObjectId('63895300a27c0c127835c6af'), 'West', Decimal128('2583.799025425105835'), 11202, Decimal128('0.2306551531356102334404570612390645')])\n"
     ]
    }
   ],
   "source": [
    "print(west.values())"
   ]
  },
  {
   "cell_type": "code",
   "execution_count": 18,
   "id": "1b62bde8",
   "metadata": {},
   "outputs": [
    {
     "name": "stdout",
     "output_type": "stream",
     "text": [
      "West 2583.799025425105835   Midwest 5804.84676329812481727   Southwest 3929.6205516508   Southeast 4365.9520124128620   Northeast 2146.0760734160\n"
     ]
    }
   ],
   "source": [
    "print(\"West\",west['cumulativeEmissionsForRegion'],\"  Midwest\",midwest['cumulativeEmissionsForRegion'],\"  Southwest\",southwest['cumulativeEmissionsForRegion'],\"  Southeast\",southeast['cumulativeEmissionsForRegion'],\"  Northeast\",northeast['cumulativeEmissionsForRegion'])"
   ]
  },
  {
   "cell_type": "code",
   "execution_count": 19,
   "id": "f9200cb5",
   "metadata": {},
   "outputs": [
    {
     "name": "stdout",
     "output_type": "stream",
     "text": [
      "West 11202   Midwest 5035   Southwest 1376   Southeast 4142   Northeast 1768\n"
     ]
    }
   ],
   "source": [
    "print(\"West\",west['cumulativeCountForRegion'],\"  Midwest\",midwest['cumulativeCountForRegion'],\"  Southwest\",southwest['cumulativeCountForRegion'],\"  Southeast\",southeast['cumulativeCountForRegion'],\"  Northeast\",northeast['cumulativeCountForRegion'])"
   ]
  },
  {
   "cell_type": "code",
   "execution_count": 30,
   "id": "0108249c",
   "metadata": {},
   "outputs": [
    {
     "name": "stdout",
     "output_type": "stream",
     "text": [
      "West      0.2306551531356102334404570612390645\n",
      "Midwest   1.152899059244910589328699106256207\n",
      "Southwest 2.855828889281104651162790697674419\n",
      "Southeast 1.054068568907016417189763399323998\n",
      "Northeast 1.213843932927601809954751131221719\n",
      "Total     0.8163420367118859639428427967697393\n"
     ]
    }
   ],
   "source": [
    "print(\"West      {}\\nMidwest   {}\\nSouthwest {}\\nSoutheast {}\\nNortheast {}\\nTotal     {}\".format(west['Ratio_emis_facility'],midwest['Ratio_emis_facility'],southwest['Ratio_emis_facility'],southeast['Ratio_emis_facility'],northeast['Ratio_emis_facility'],control['Ratio_emis_facility']))"
   ]
  },
  {
   "cell_type": "code",
   "execution_count": null,
   "id": "bf2059c8",
   "metadata": {},
   "outputs": [],
   "source": []
  }
 ],
 "metadata": {
  "kernelspec": {
   "display_name": "Python 3 (ipykernel)",
   "language": "python",
   "name": "python3"
  },
  "language_info": {
   "codemirror_mode": {
    "name": "ipython",
    "version": 3
   },
   "file_extension": ".py",
   "mimetype": "text/x-python",
   "name": "python",
   "nbconvert_exporter": "python",
   "pygments_lexer": "ipython3",
   "version": "3.9.7"
  }
 },
 "nbformat": 4,
 "nbformat_minor": 5
}
